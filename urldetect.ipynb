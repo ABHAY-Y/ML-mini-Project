{
 "cells": [
  {
   "cell_type": "code",
   "execution_count": 3,
   "metadata": {},
   "outputs": [],
   "source": [
    "import numpy as np  #numpy library is used to work with arrays.\n",
    "from sklearn.metrics import classification_report, confusion_matrix, accuracy_score #classification_report: it displays important factor(s) values such as values of Precision, Recall, F1 score, Support; confusion_matrix: it displays the truenagative values, falsenegative values, falsepositive values, truepositive values; accuracy_score: used to display count of correct prediction \n",
    "import matplotlib.pyplot as plt #used to plot our data graphically by using basic graphs\n",
    "import seaborn as sns #used to plot our data using advanced graphs\n",
    "import pandas as pd #used to work with dataset.\n",
    "from sklearn.model_selection import train_test_split #train_test_split use to split our data between two groups: train and test\n",
    "from sklearn.preprocessing import StandardScaler\n",
    "from sklearn.linear_model import LogisticRegression\n",
    "from sklearn.svm import SVC\n",
    "from sklearn.multiclass import OneVsRestClassifier"
   ]
  },
  {
   "cell_type": "code",
   "execution_count": 4,
   "metadata": {},
   "outputs": [],
   "source": [
    "read = pd.read_csv('malicious_phish.csv.zip')\n",
    "df = pd.DataFrame(read)\n",
    "trt = df.rename(columns={'type':'url_type'})\n",
    "trt.style"
   ]
  },
  {
   "cell_type": "code",
   "execution_count": null,
   "metadata": {},
   "outputs": [],
   "source": [
    "trt.url_type.value_counts() #displays the count of each label"
   ]
  },
  {
   "cell_type": "code",
   "execution_count": 6,
   "metadata": {},
   "outputs": [],
   "source": [
    "#independent variables creation\n",
    "def https_count(url):\n",
    "  return url.count('https')\n",
    "\n",
    "trt['https_count'] = trt['url'].apply(lambda i : https_count(i)) \n",
    "\n",
    "def http_count(url):\n",
    "  return url.count('http')\n",
    "\n",
    "trt['https_count'] = trt['url'].apply(lambda i : http_count(i)) \n",
    "\n",
    "def url_length(url):\n",
    "  return len(url)\n",
    "\n",
    "trt['url_length'] = trt['url'].apply(lambda i : url_length(i))\n",
    "\n",
    "def equal_sign(url):\n",
    "  return url.count('=')\n",
    "\n",
    "trt['equal_sign'] = trt['url'].apply(lambda i : equal_sign(i))\n",
    "\n",
    "def percent_sign(url):\n",
    "  return url.count('%')\n",
    "\n",
    "trt['percent_sign'] = trt['url'].apply(lambda i : percent_sign(i))\n",
    "\n",
    "def html_count(url):\n",
    "  return url.count('html')\n",
    "\n",
    "trt['html_count'] = trt['url'].apply(lambda i : html_count(i))\n",
    "\n",
    "def htm_count(url):\n",
    "  return url.count('htm')\n",
    "\n",
    "trt['htm_count'] = trt['url'].apply(lambda i : htm_count(i))\n",
    "\n",
    "def acc_count(url):\n",
    "  return url.count('account')\n",
    "\n",
    "trt['acc_count'] = trt['url'].apply(lambda i : acc_count(i)) \n",
    "\n",
    "def count_e8(url):\n",
    "  return url.count('E8')\n",
    "\n",
    "trt['count_e8'] = trt['url'].apply(lambda i : count_e8(i))\n",
    "\n",
    "def count_b4(url):\n",
    "  return url.count('B4')\n",
    "\n",
    "trt['count_b4'] = trt['url'].apply(lambda i : count_b4(i))\n",
    "\n",
    "def count_e7(url):\n",
    "  return url.count('E7')\n",
    "\n",
    "trt['count_e7'] = trt['url'].apply(lambda i : count_e7(i))\n",
    "\n",
    "def count_bb(url):\n",
    "  return url.count('BB')\n",
    "\n",
    "trt['count_bb'] = trt['url'].apply(lambda i : count_bb(i))\n",
    "\n",
    "def count_exe(url):\n",
    "  return url.count('exe')\n",
    "\n",
    "trt['count_exe'] = trt['url'].apply(lambda i : count_exe(i))\n",
    "\n",
    "def count_mozi(url):\n",
    "  return url.count('Mozi')\n",
    "\n",
    "trt['count_mozi'] = trt['url'].apply(lambda i : count_mozi(i))\n",
    "\n",
    "def count_php(url):\n",
    "  return url.count('php')\n",
    "\n",
    "trt['count_php'] = trt['url'].apply(lambda i : count_php(i))\n",
    "\n",
    "def count_option(url):\n",
    "  return url.count('option')\n",
    "\n",
    "trt['count_option'] = trt['url'].apply(lambda i : count_option(i))"
   ]
  },
  {
   "cell_type": "code",
   "execution_count": null,
   "metadata": {},
   "outputs": [],
   "source": [
    "trt.style #displaying the dataset with crated independent variables"
   ]
  },
  {
   "cell_type": "code",
   "execution_count": null,
   "metadata": {},
   "outputs": [],
   "source": [
    "trt.count_e8.value_counts()[1]"
   ]
  },
  {
   "cell_type": "code",
   "execution_count": null,
   "metadata": {},
   "outputs": [],
   "source": [
    "from sklearn.preprocessing import LabelEncoder\n",
    "er = LabelEncoder()\n",
    "trt[\"int_value\"] = er.fit_transform(trt[\"url_type\"])\n",
    "trt[\"int_value\"].value_counts()"
   ]
  },
  {
   "cell_type": "code",
   "execution_count": 9,
   "metadata": {},
   "outputs": [],
   "source": [
    "X = trt[['https_count',\t'url_length',\t'equal_sign',\t'percent_sign',\t'html_count',\t'htm_count',\t'acc_count',\t'count_e8',\t'count_b4',\t'count_e7',\t'count_bb',\t'count_exe',\t'count_mozi',\t'count_php',\t'count_option']]\n",
    "Y = trt['int_value']"
   ]
  },
  {
   "cell_type": "code",
   "execution_count": 10,
   "metadata": {},
   "outputs": [],
   "source": [
    "X_train, X_test, y_train, y_test = train_test_split(X,Y,test_size=0.2,random_state=42)"
   ]
  },
  {
   "cell_type": "code",
   "execution_count": 11,
   "metadata": {},
   "outputs": [],
   "source": [
    "qwe = OneVsRestClassifier(SVC())"
   ]
  },
  {
   "cell_type": "code",
   "execution_count": 12,
   "metadata": {},
   "outputs": [],
   "source": [
    "qwe.fit(X_train, y_train)"
   ]
  },
  {
   "cell_type": "code",
   "execution_count": null,
   "metadata": {},
   "outputs": [],
   "source": [
    "pre = qwe.predict(X_test)"
   ]
  },
  {
   "cell_type": "code",
   "execution_count": null,
   "metadata": {},
   "outputs": [],
   "source": [
    "print(accuracy_score(pre, y_test)*100)"
   ]
  }
 ],
 "metadata": {
  "kernelspec": {
   "display_name": "Python 3.9.12 ('base')",
   "language": "python",
   "name": "python3"
  },
  "language_info": {
   "codemirror_mode": {
    "name": "ipython",
    "version": 3
   },
   "file_extension": ".py",
   "mimetype": "text/x-python",
   "name": "python",
   "nbconvert_exporter": "python",
   "pygments_lexer": "ipython3",
   "version": "3.9.12"
  },
  "orig_nbformat": 4,
  "vscode": {
   "interpreter": {
    "hash": "77a8e4b8c0f76729b2de917eefec53843645843e1523c7a003363113c2e237ca"
   }
  }
 },
 "nbformat": 4,
 "nbformat_minor": 2
}
